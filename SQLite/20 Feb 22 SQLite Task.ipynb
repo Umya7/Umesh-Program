{
 "cells": [
  {
   "cell_type": "markdown",
   "id": "a467259d",
   "metadata": {},
   "source": [
    "# Task"
   ]
  },
  {
   "cell_type": "markdown",
   "id": "e791045a",
   "metadata": {},
   "source": [
    "Task for today : dataset - https://archive.ics.uci.edu/ml/datasets/Bag+of+Words\n",
    "\n",
    "Q1 = try to find out a count of each and every word in a respective file return a list of tuple with word and its respective count\n",
    "sample example - [('sudh', 6 ) , ('kumar',3)]\n",
    "\n",
    "Q2 = try to perform a reduce operation to get a count of all the word starting with same alphabet\n",
    "sample examle = [(a,56) , (b,34),...........]\n",
    "\n",
    "Q3 = Try to filter out all the words from dataset .\n",
    ".001.abstract = abstract =.002 = delete\n",
    "\n",
    "Q4 = create a tuple set of all the records avaialble in all the five file and then store it in sqllite DB .\n",
    "(aah,>=,354,fdsf,wer)"
   ]
  },
  {
   "cell_type": "markdown",
   "id": "58db8dbc",
   "metadata": {},
   "source": [
    "# Data Analysis :-"
   ]
  },
  {
   "cell_type": "markdown",
   "id": "4995b296",
   "metadata": {},
   "source": [
    "### Each Text Collection has :-"
   ]
  },
  {
   "cell_type": "markdown",
   "id": "d900a6a1",
   "metadata": {},
   "source": [
    "1. D is the number of documents\n",
    "2. W is the number of words in the vocabulary\n",
    "3. N is the total number of words in the collection"
   ]
  },
  {
   "cell_type": "markdown",
   "id": "8b15197a",
   "metadata": {},
   "source": [
    "### Five Text Collections :-"
   ]
  },
  {
   "cell_type": "markdown",
   "id": "ef161554",
   "metadata": {},
   "source": [
    "1. Enron\n",
    "2. NIPS\n",
    "3. KOS\n",
    "4. NYTimes\n",
    "5. PubMed"
   ]
  },
  {
   "cell_type": "markdown",
   "id": "7500c185",
   "metadata": {},
   "source": [
    "### Five Text Collections :-"
   ]
  },
  {
   "cell_type": "markdown",
   "id": "f1d7b0b2",
   "metadata": {},
   "source": [
    "#### 1. Enron Emails :-\n",
    "    1.1. D=39861\n",
    "    1.2. W=28102\n",
    "    1.3. N=6,400,000 (approx)"
   ]
  },
  {
   "cell_type": "markdown",
   "id": "ea9da929",
   "metadata": {},
   "source": [
    "#### 2. NIPS full papers :-\n",
    "    2.1. D=1500\n",
    "    2.2. W=12419\n",
    "    2.3. N=1,900,000 (approx)"
   ]
  },
  {
   "cell_type": "markdown",
   "id": "d42ecc48",
   "metadata": {},
   "source": [
    "#### 3. KOS blog entries :-\n",
    "    3.1. D=3430\n",
    "    3.2. W=6906\n",
    "    3.3. N=467714"
   ]
  },
  {
   "cell_type": "markdown",
   "id": "04c3e704",
   "metadata": {},
   "source": [
    "#### 4. NYTimes news articles:\n",
    "    4.1. D=300000\n",
    "    4.2. W=102660\n",
    "    4.3. N=100,000,000 (approx)"
   ]
  },
  {
   "cell_type": "markdown",
   "id": "78299ece",
   "metadata": {},
   "source": [
    "#### 5. PubMed abstracts:\n",
    "    5.1. D=8200000\n",
    "    5.2. W=141043\n",
    "    5.3. N=730,000,000 (approx)"
   ]
  },
  {
   "cell_type": "code",
   "execution_count": 2,
   "id": "c88d0857",
   "metadata": {},
   "outputs": [],
   "source": [
    "import logging \n",
    "\n",
    "## Creating logging config\n",
    "\n",
    "logging.basicConfig(filename='vocab_logfile.log',\n",
    "                    filemode='a',\n",
    "                    level = logging.INFO,\n",
    "                    format='%(asctime)s %(levelname)s-%(message)s',\n",
    "                    datefmt='%Y-%m-%d %H:%M:%S'\n",
    "                    )\n",
    "\n",
    "## Creating Logger Object\n",
    "logger = logging.getLogger()\n",
    "logger.setLevel(logging.DEBUG)"
   ]
  },
  {
   "cell_type": "markdown",
   "id": "eb2a89be",
   "metadata": {},
   "source": [
    "## Task 1 :-\n",
    "### Q1 = try to find out a count of each and every word in a respective file return a list of tuple with word and its respective count\n",
    "sample example - [('sudh', 6 ) , ('kumar',3)]"
   ]
  },
  {
   "cell_type": "code",
   "execution_count": 3,
   "id": "d704ba34",
   "metadata": {},
   "outputs": [],
   "source": [
    "import csv\n",
    "\n",
    "def wordCount(*args):\n",
    "    \"\"\"\n",
    "    wordCount(file1, file2, ... filen)\n",
    "    wordCount(*args)\n",
    "\n",
    "    This function take file(s) as argument and return word with occurence count.\n",
    "\n",
    "    :param:\n",
    "        *args: file(s).\n",
    "    :return: ('word', count(word)) : list(tuples)\n",
    "    \"\"\"\n",
    "    words = []\n",
    "    \n",
    "    try:\n",
    "        for file in args:\n",
    "            with open(file, 'r', encoding=\"utf8\") as f:\n",
    "                data = csv.reader(f)\n",
    "                for row_data in data:\n",
    "                    words.append(row_data[0])\n",
    "    except Exception as e:\n",
    "        logger.error('Error in reading files: ' + str(e))\n",
    "    else:\n",
    "        word_count = []\n",
    "        unique_words = list(set(words))\n",
    "        unique_words.sort()\n",
    "\n",
    "        for i in unique_words:\n",
    "            word_count.append((i, words.count(i)))\n",
    "            #yield (i, words.count(i))\n",
    "        logger.info('Word count for records: ' +  str(len(word_count)) + ' from ' + str(len(args)) + 'Datasets')\n",
    "        \n",
    "        return word_count"
   ]
  },
  {
   "cell_type": "markdown",
   "id": "16bf8039",
   "metadata": {},
   "source": [
    "### Feteching records for data 'vocab.enron.txt' and 'vocab.kos.txt'"
   ]
  },
  {
   "cell_type": "code",
   "execution_count": 4,
   "id": "377254cb",
   "metadata": {},
   "outputs": [],
   "source": [
    "task1 = wordCount('vocab.enron.txt', 'vocab.kos.txt')"
   ]
  },
  {
   "cell_type": "markdown",
   "id": "3c943d19",
   "metadata": {},
   "source": [
    "### Feteching top 20 data"
   ]
  },
  {
   "cell_type": "code",
   "execution_count": 5,
   "id": "6423670b",
   "metadata": {},
   "outputs": [
    {
     "data": {
      "text/plain": [
       "[('aaa', 1),\n",
       " ('aaas', 1),\n",
       " ('aactive', 1),\n",
       " ('aadvantage', 1),\n",
       " ('aaker', 1),\n",
       " ('aap', 1),\n",
       " ('aapg', 1),\n",
       " ('aaron', 1),\n",
       " ('aarp', 2),\n",
       " ('aas', 1),\n",
       " ('aau', 1),\n",
       " ('ab1890', 1),\n",
       " ('ab1x', 1),\n",
       " ('ab31x', 1),\n",
       " ('aba', 1),\n",
       " ('abacus', 1),\n",
       " ('abag', 1),\n",
       " ('abalone', 1),\n",
       " ('abandon', 2),\n",
       " ('abandoned', 2)]"
      ]
     },
     "execution_count": 5,
     "metadata": {},
     "output_type": "execute_result"
    }
   ],
   "source": [
    "task1[0:20]"
   ]
  },
  {
   "cell_type": "markdown",
   "id": "f43e860d",
   "metadata": {},
   "source": [
    "## Task 2 :-\n",
    "### Q2 = try to perform a reduce operation to get a count of all the word starting with same alphabet\n",
    "sample examle = [(a,56) , (b,34),...........]"
   ]
  },
  {
   "cell_type": "code",
   "execution_count": 6,
   "id": "b0d889e9",
   "metadata": {},
   "outputs": [],
   "source": [
    "import csv\n",
    "\n",
    "def wordCount_reduce(*args):\n",
    "    \"\"\"\n",
    "    wordCount_reduce(file1, file2, ... filen)\n",
    "    wordCount_reduce(*args)\n",
    "\n",
    "    This function take file(s) as argument and return alphabets with occurence count.\n",
    "\n",
    "    :param:\n",
    "        *args: file(s).\n",
    "    :return: ('alphabets', count(alphabets)) : list(tuples)\n",
    "    \"\"\"\n",
    "    words = []\n",
    "    \n",
    "    try:\n",
    "        for file in args:\n",
    "            with open(file, 'r', encoding=\"utf8\") as f:\n",
    "                data = csv.reader(f)\n",
    "                for row_data in data:\n",
    "                    if row_data[0][0] >= 'a' and row_data[0][0] <= 'z' or row_data[0][0] >= 'A' and row_data[0][0] <= 'Z':\n",
    "                        words.append(row_data[0][0])\n",
    "                        \n",
    "    except Exception as e:\n",
    "        logger.error('Error in reading files: ' + str(e))\n",
    "    \n",
    "    else:\n",
    "        word_count = []\n",
    "        unique_words = list(set(words))\n",
    "        unique_words.sort()\n",
    "\n",
    "\n",
    "        for i in unique_words:\n",
    "            word_count.append((i, words.count(i)))\n",
    "        \n",
    "        logger.info('Data record count : ' +  str(len(word_count)) + ' from ' + str(len(args)) + 'Datasets')\n",
    "        \n",
    "        return word_count"
   ]
  },
  {
   "cell_type": "markdown",
   "id": "d6a4dec7",
   "metadata": {},
   "source": [
    "### Feteching records for data 'vocab.enron.txt' and 'vocab.kos.txt'"
   ]
  },
  {
   "cell_type": "code",
   "execution_count": 7,
   "id": "144f51fb",
   "metadata": {},
   "outputs": [
    {
     "data": {
      "text/plain": [
       "[('a', 12501),\n",
       " ('b', 7046),\n",
       " ('c', 15155),\n",
       " ('d', 8388),\n",
       " ('e', 7143),\n",
       " ('f', 5642),\n",
       " ('g', 5150),\n",
       " ('h', 7418),\n",
       " ('i', 7097),\n",
       " ('j', 933),\n",
       " ('k', 1855),\n",
       " ('l', 5716),\n",
       " ('m', 10734),\n",
       " ('n', 7647),\n",
       " ('o', 4026),\n",
       " ('p', 15247),\n",
       " ('q', 634),\n",
       " ('r', 7620),\n",
       " ('s', 13603),\n",
       " ('t', 8447),\n",
       " ('u', 2908),\n",
       " ('v', 2784),\n",
       " ('w', 2289),\n",
       " ('x', 425),\n",
       " ('y', 412),\n",
       " ('z', 477)]"
      ]
     },
     "execution_count": 7,
     "metadata": {},
     "output_type": "execute_result"
    }
   ],
   "source": [
    "wordCount_reduce('vocab.enron.txt', 'vocab.pubmed.txt')"
   ]
  },
  {
   "cell_type": "markdown",
   "id": "d93f62ba",
   "metadata": {},
   "source": [
    "## Task 3 :-\n",
    "### Q3 = Try to filter out all the words from dataset .\n",
    ".001.abstract = abstract =.002 = delete"
   ]
  },
  {
   "cell_type": "code",
   "execution_count": 8,
   "id": "774de519",
   "metadata": {},
   "outputs": [],
   "source": [
    "import csv\n",
    "\n",
    "def filter_word(*args):\n",
    "    \"\"\"\n",
    "    filter_word(file1, file2, ... filen)\n",
    "    filter_word(*args)\n",
    "\n",
    "    This function take file(s) as argument extract only the letters and return  as list.\n",
    "\n",
    "    :param:\n",
    "        *args: file(s).\n",
    "    :return: ('characters') : list(strings)\n",
    "    \"\"\"\n",
    "    words = []\n",
    "    \n",
    "    try:\n",
    "        for file in args:\n",
    "            with open(file, 'r', encoding=\"utf8\") as f:\n",
    "                data = csv.reader(f)\n",
    "                for row_data in data:\n",
    "                    current_word = \"\"\n",
    "                    for char in row_data[0]:\n",
    "                        if char >= 'a' and char <= 'z' or char[0][0] >= 'A' and char[0][0] <= 'Z':\n",
    "                            current_word += char\n",
    "                    words.append(current_word)\n",
    "\n",
    "    except Exception as e:\n",
    "        logger.error('Error in reading files: ' + str(e))\n",
    "        \n",
    "    else:\n",
    "        alpha = []\n",
    "        unique_words = list(set(words))\n",
    "        unique_words.sort()\n",
    "\n",
    "\n",
    "        for i in unique_words:\n",
    "             #yield (i)\n",
    "            if len(i) > 0:\n",
    "                alpha.append(i)\n",
    "                \n",
    "        logger.info('Total filter records: ' +  str(len(alpha)) + ' from ' + str(len(args)) + 'Datasets')\n",
    "        \n",
    "        return alpha"
   ]
  },
  {
   "cell_type": "markdown",
   "id": "52280b59",
   "metadata": {},
   "source": [
    "### Feteching records for data 'vocab.pubmed.txt'"
   ]
  },
  {
   "cell_type": "code",
   "execution_count": 9,
   "id": "0b131b96",
   "metadata": {},
   "outputs": [],
   "source": [
    "filter_words = filter_word('vocab.pubmed.txt')"
   ]
  },
  {
   "cell_type": "markdown",
   "id": "aefd6135",
   "metadata": {},
   "source": [
    "#### Fetching top 10 records"
   ]
  },
  {
   "cell_type": "code",
   "execution_count": 10,
   "id": "6415dff4",
   "metadata": {},
   "outputs": [
    {
     "data": {
      "text/plain": [
       "['a',\n",
       " 'aa',\n",
       " 'aaa',\n",
       " 'aaaa',\n",
       " 'aaad',\n",
       " 'aaamyloidosis',\n",
       " 'aaar',\n",
       " 'aaas',\n",
       " 'aab',\n",
       " 'aabb']"
      ]
     },
     "execution_count": 10,
     "metadata": {},
     "output_type": "execute_result"
    }
   ],
   "source": [
    "filter_words[:10]"
   ]
  },
  {
   "cell_type": "markdown",
   "id": "030d72c6",
   "metadata": {},
   "source": [
    "## Task 4 :-\n",
    "### Q4 = create a tuple set of all the records avaialble in all the five file and then store it in sqllite DB .\n",
    "(aah,>=,354,fdsf,wer)"
   ]
  },
  {
   "cell_type": "markdown",
   "id": "9843b9b2",
   "metadata": {},
   "source": [
    "#### Function to fetch records from n collections"
   ]
  },
  {
   "cell_type": "code",
   "execution_count": 11,
   "id": "3bf6ade6",
   "metadata": {},
   "outputs": [],
   "source": [
    "import csv\n",
    "\n",
    "def task4(*args):\n",
    "    \"\"\"\n",
    "    task4(file1, file2, ... filen)\n",
    "    task4(*args)\n",
    "\n",
    "    This function take file(s) as argument and return list of list.\n",
    "\n",
    "    :param:\n",
    "        *args: file(s).\n",
    "    :return: ('string') : list(strings)\n",
    "    \"\"\"\n",
    "    combine_words = []\n",
    "    try:\n",
    "        for file in args:\n",
    "            with open(file, 'r', encoding=\"utf8\") as f:\n",
    "                data = csv.reader(f)\n",
    "                words = []\n",
    "                for row_data in data:\n",
    "                    words.append(row_data[0])\n",
    "                combine_words.append(words)\n",
    "    \n",
    "    except Exception as e:\n",
    "        logger.error('Error in reading files: ' + str(e))\n",
    "    else:\n",
    "        logger.info('Success Return of list of list')\n",
    "                \n",
    "        return combine_words"
   ]
  },
  {
   "cell_type": "markdown",
   "id": "ea9c45e6",
   "metadata": {},
   "source": [
    "#### Fetching data from all 5 collections"
   ]
  },
  {
   "cell_type": "code",
   "execution_count": 12,
   "id": "fee915aa",
   "metadata": {},
   "outputs": [],
   "source": [
    "file = task4('vocab.enron.txt', 'vocab.kos.txt', 'vocab.nips.txt', 'vocab.nytimes.txt', 'vocab.pubmed.txt')"
   ]
  },
  {
   "cell_type": "markdown",
   "id": "a1d298ff",
   "metadata": {},
   "source": [
    "#### Spliting the data into 5 parts"
   ]
  },
  {
   "cell_type": "code",
   "execution_count": 13,
   "id": "3f366eff",
   "metadata": {},
   "outputs": [],
   "source": [
    "f1 = file[0]\n",
    "f2 = file[1]\n",
    "f3 = file[2]\n",
    "f4 = file[3]\n",
    "f5 = file[4]"
   ]
  },
  {
   "cell_type": "markdown",
   "id": "262ece89",
   "metadata": {},
   "source": [
    "#### Using zip function and create a final list for dumping data into SQLite"
   ]
  },
  {
   "cell_type": "code",
   "execution_count": 15,
   "id": "9272610d",
   "metadata": {},
   "outputs": [],
   "source": [
    "final_zip_list = list(zip(f1, f2, f3, f4, f5))"
   ]
  },
  {
   "cell_type": "markdown",
   "id": "e3d1afe8",
   "metadata": {},
   "source": [
    "#### Preview of final list data to dump into the SQLite DB"
   ]
  },
  {
   "cell_type": "code",
   "execution_count": 16,
   "id": "9f852720",
   "metadata": {},
   "outputs": [
    {
     "data": {
      "text/plain": [
       "[('aaa', 'aarp', 'a2i', 'aah', '>='),\n",
       " ('aaas', 'abandon', 'aaa', 'aahed', '>>'),\n",
       " ('aactive', 'abandoned', 'aaai', 'aaron', '>>>'),\n",
       " ('aadvantage', 'abandoning', 'aapo', 'aback', '>/='),\n",
       " ('aaker', 'abb', 'aat', 'abacus', '->'),\n",
       " ('aap', 'abc', 'aazhang', 'abajo', '--'),\n",
       " ('aapg', 'abcs', 'abandonment', 'abalone', '-->'),\n",
       " ('aaron', 'abdullah', 'abbott', 'abandon', '-/-'),\n",
       " ('aarp', 'ability', 'abbreviated', 'abandoned', '-/+'),\n",
       " ('aas', 'aboard', 'abcde', 'abandoning', '/-'),\n",
       " ('aau', 'abortion', 'abe', 'abandonment', '/+-'),\n",
       " ('ab1890', 'abortions', 'abeles', 'abandono', '..'),\n",
       " ('ab1x', 'abraham', 'abi', 'abarnard', '...'),\n",
       " ('ab31x', 'abrams', 'abilistic', 'abashed', '+-'),\n",
       " ('aba', 'abroad', 'abilities', 'abate', '+/')]"
      ]
     },
     "execution_count": 16,
     "metadata": {},
     "output_type": "execute_result"
    }
   ],
   "source": [
    "final_zip_list[:15]"
   ]
  },
  {
   "cell_type": "markdown",
   "id": "4a002c8e",
   "metadata": {},
   "source": [
    "#### SQLite Database and Table Creation"
   ]
  },
  {
   "cell_type": "markdown",
   "id": "a8d2451b",
   "metadata": {},
   "source": [
    "#### Dumping the above data into the Table"
   ]
  },
  {
   "cell_type": "code",
   "execution_count": 17,
   "id": "29d34671",
   "metadata": {},
   "outputs": [],
   "source": [
    "import sqlite3\n",
    "\n",
    "try:\n",
    "    db = sqlite3.connect('vocab_database.db')\n",
    "    logger.info('Database Created: ' +  str(db))\n",
    "    cursor = db.cursor()\n",
    "    query = \"CREATE TABLE main_table(file1 text, file2 text, file3 text, file4 text, file5 text)\"\n",
    "    cursor.execute(query)\n",
    "\n",
    "    record_count = 0 \n",
    "    for record in final_zip_list:\n",
    "        query = \"INSERT INTO main_table VALUES {}\".format(tuple(record))\n",
    "        cursor.execute(query)\n",
    "        record_count += 1\n",
    "        \n",
    "    db.commit()\n",
    "    \n",
    "    logger.info('Total records inserted: ' +  str(record_count))\n",
    "        \n",
    "except Exception as e:\n",
    "    logger.error('Error: ' + str(e))\n",
    "finally:\n",
    "    db.close()"
   ]
  },
  {
   "cell_type": "code",
   "execution_count": 18,
   "id": "5835042c",
   "metadata": {},
   "outputs": [],
   "source": [
    "import sqlite3\n",
    "db = sqlite3.connect('vocab_database.db')\n",
    "cursor = db.cursor()"
   ]
  },
  {
   "cell_type": "markdown",
   "id": "845ab4d5",
   "metadata": {},
   "source": [
    "#### Fetching the top 20 records from SQLite Table"
   ]
  },
  {
   "cell_type": "code",
   "execution_count": 19,
   "id": "1ede13e5",
   "metadata": {},
   "outputs": [
    {
     "data": {
      "text/plain": [
       "[('aaa', 'aarp', 'a2i', 'aah', '>='),\n",
       " ('aaas', 'abandon', 'aaa', 'aahed', '>>'),\n",
       " ('aactive', 'abandoned', 'aaai', 'aaron', '>>>'),\n",
       " ('aadvantage', 'abandoning', 'aapo', 'aback', '>/='),\n",
       " ('aaker', 'abb', 'aat', 'abacus', '->'),\n",
       " ('aap', 'abc', 'aazhang', 'abajo', '--'),\n",
       " ('aapg', 'abcs', 'abandonment', 'abalone', '-->'),\n",
       " ('aaron', 'abdullah', 'abbott', 'abandon', '-/-'),\n",
       " ('aarp', 'ability', 'abbreviated', 'abandoned', '-/+'),\n",
       " ('aas', 'aboard', 'abcde', 'abandoning', '/-'),\n",
       " ('aau', 'abortion', 'abe', 'abandonment', '/+-'),\n",
       " ('ab1890', 'abortions', 'abeles', 'abandono', '..'),\n",
       " ('ab1x', 'abraham', 'abi', 'abarnard', '...'),\n",
       " ('ab31x', 'abrams', 'abilistic', 'abashed', '+-'),\n",
       " ('aba', 'abroad', 'abilities', 'abate', '+/'),\n",
       " ('abacus', 'absence', 'ability', 'abated', '+/--'),\n",
       " ('abag', 'absent', 'abl', 'abatement', '+/?'),\n",
       " ('abalone', 'absentee', 'able', 'abating', '+/+'),\n",
       " ('abandon', 'absolute', 'ables', 'abbey', '++'),\n",
       " ('abandoned', 'absolutely', 'ablex', 'abbot', '+++')]"
      ]
     },
     "execution_count": 19,
     "metadata": {},
     "output_type": "execute_result"
    }
   ],
   "source": [
    "data = cursor.execute(\"select * from main_table limit 20\")\n",
    "[i for i in data]"
   ]
  },
  {
   "cell_type": "markdown",
   "id": "a5bb4092",
   "metadata": {},
   "source": [
    "### Log File "
   ]
  },
  {
   "cell_type": "code",
   "execution_count": 20,
   "id": "c92f110d",
   "metadata": {},
   "outputs": [
    {
     "data": {
      "image/jpeg": "[encoded data removed]",
      "text/plain": [
       "<IPython.core.display.Image object>"
      ]
     },
     "execution_count": 20,
     "metadata": {},
     "output_type": "execute_result"
    }
   ],
   "source": [
    "from IPython import display \n",
    "display.Image(\"./vocab_logfile.jpg\")"
   ]
  },
  {
   "cell_type": "code",
   "execution_count": null,
   "id": "d4e58592",
   "metadata": {},
   "outputs": [],
   "source": []
  }
 ],
 "metadata": {
  "kernelspec": {
   "display_name": "Python 3",
   "language": "python",
   "name": "python3"
  },
  "language_info": {
   "codemirror_mode": {
    "name": "ipython",
    "version": 3
   },
   "file_extension": ".py",
   "mimetype": "text/x-python",
   "name": "python",
   "nbconvert_exporter": "python",
   "pygments_lexer": "ipython3",
   "version": "3.8.8"
  }
 },
 "nbformat": 4,
 "nbformat_minor": 5
}
